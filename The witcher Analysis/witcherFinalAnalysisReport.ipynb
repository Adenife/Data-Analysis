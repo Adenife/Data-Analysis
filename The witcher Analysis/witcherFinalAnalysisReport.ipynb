{
 "cells": [
  {
   "cell_type": "markdown",
   "id": "ba8ec931-7aa3-40b5-b79c-03cebfb0f995",
   "metadata": {},
   "source": [
    "**Name:** Aweda Oluwanifemi\\\n",
    "**Date Created:** 30/06/2022\\\n",
    "**Inspired by:** [Thu Hien Vu](https://www.linkedin.com/in/thu-hien-vu-3766b174/)\\\n",
    "**Code Repository:** [GitHub]()\n",
    "\n",
    "\n",
    "\n",
    "."
   ]
  },
  {
   "cell_type": "markdown",
   "id": "22df1e23-1962-470f-a893-0a4c1348a8bd",
   "metadata": {},
   "source": [
    "# Analysis of the witcher book series\n",
    "\n",
    "##### The aim of this roject is to see the relationship between characters in the witcher book series. The data was scraped from the witcher wiki website [here](https://witcher.fandom.com/wiki/Category:Characters_in_the_stories).\n",
    "\n",
    "The data scraped contains the names of each character labelled by the books they appear in.\n",
    "The data is reliable and also free to scrape so all licensing protocols were adhered to.\n",
    "Python programming was used for the analysis"
   ]
  },
  {
   "cell_type": "markdown",
   "id": "a4ceddf8-1e27-41fc-ae5b-fdc07b3028e8",
   "metadata": {},
   "source": [
    "#### Import required modules or libraries used"
   ]
  },
  {
   "cell_type": "code",
   "execution_count": 36,
   "id": "fe582458-d132-41b6-bfe9-ba75ec1758db",
   "metadata": {},
   "outputs": [],
   "source": [
    "import pandas as pd\n",
    "import time\n",
    "from selenium import webdriver\n",
    "from selenium.webdriver.common.by import By\n",
    "from webdriver_manager.chrome import ChromeDriverManager\n",
    "\n",
    "import numpy as np\n",
    "import spacy\n",
    "from spacy import displacy\n",
    "import networkx as nx\n",
    "from pyvis.network import Network\n",
    "import community.community_louvain as community_louvain\n",
    "\n",
    "import os\n",
    "import re\n",
    "from lib.utils.functions import *\n",
    "\n",
    "import matplotlib.pyplot as plt\n",
    "\n",
    "import warnings\n",
    "warnings.filterwarnings('ignore')"
   ]
  },
  {
   "cell_type": "markdown",
   "id": "3ed324b7-95ed-4add-8577-7dbbe741377e",
   "metadata": {},
   "source": [
    "### **Data Scraping**"
   ]
  },
  {
   "cell_type": "markdown",
   "id": "2c9277a5-8e47-40c7-8999-70154483f01a",
   "metadata": {},
   "source": [
    "**Install the chrome driver required to automate the web**"
   ]
  },
  {
   "cell_type": "code",
   "execution_count": 2,
   "id": "595e73b6-0d69-47b8-8bf3-ec92c0839350",
   "metadata": {},
   "outputs": [
    {
     "name": "stdout",
     "output_type": "stream",
     "text": [
      "\n"
     ]
    },
    {
     "name": "stderr",
     "output_type": "stream",
     "text": [
      "[WDM] - ====== WebDriver manager ======\n",
      "[WDM] - Current google-chrome version is 103.0.5060\n",
      "[WDM] - Get LATEST chromedriver version for 103.0.5060 google-chrome\n",
      "[WDM] - Driver [C:\\Users\\oluwanifemi.aweda\\.wdm\\drivers\\chromedriver\\win32\\103.0.5060.53\\chromedriver.exe] found in cache\n",
      "C:\\Users\\oluwanifemi.aweda\\AppData\\Local\\Temp\\ipykernel_14732\\528666977.py:2: DeprecationWarning: executable_path has been deprecated, please pass in a Service object\n",
      "  driver = webdriver.Chrome(ChromeDriverManager().install())\n"
     ]
    }
   ],
   "source": [
    "# create driver\n",
    "driver = webdriver.Chrome(ChromeDriverManager().install())"
   ]
  },
  {
   "cell_type": "markdown",
   "id": "0098f5d4-b47e-4b9d-8ce9-80c5d7a704c0",
   "metadata": {},
   "source": [
    "**Get the page to scrape**"
   ]
  },
  {
   "cell_type": "code",
   "execution_count": 3,
   "id": "c2572387-77e2-4862-9bed-2ca63f5058b7",
   "metadata": {},
   "outputs": [],
   "source": [
    "# go to the characters in the books page\n",
    "page_url = \"https://witcher.fandom.com/wiki/Category:Characters_in_the_stories\"\n",
    "driver.get(page_url)\n",
    "\n",
    "# click on accept cookies\n",
    "time.sleep(3)\n",
    "# driver.find_element(By.XPATH, '//div[text()=\"ACCEPT\"]').click()"
   ]
  },
  {
   "cell_type": "markdown",
   "id": "44a459c3-12c5-4414-8d38-de1de628431b",
   "metadata": {},
   "source": [
    "**Get all the books (name, and url) in the series**"
   ]
  },
  {
   "cell_type": "code",
   "execution_count": 4,
   "id": "f014327e-6d80-4630-8ae3-9c22acb1b4db",
   "metadata": {},
   "outputs": [],
   "source": [
    "# find books\n",
    "book_categories = driver.find_elements(By.CLASS_NAME, \"category-page__member-link\")\n",
    "\n",
    "books = []\n",
    "for category in book_categories:\n",
    "    book_url = category.get_attribute(\"href\")\n",
    "    book_name = category.text\n",
    "    books.append({'book_name': book_name, 'url': book_url})"
   ]
  },
  {
   "cell_type": "markdown",
   "id": "205bd81c-189f-4c8b-80c3-fc4a2ca43831",
   "metadata": {},
   "source": [
    "**Get all the characters in each of the books in the series and append to a list**"
   ]
  },
  {
   "cell_type": "code",
   "execution_count": 5,
   "id": "447fd7c6-1633-406e-bdbf-8699bd8cdd26",
   "metadata": {},
   "outputs": [],
   "source": [
    "character_list = []\n",
    "\n",
    "for book in books:\n",
    "    # go to book page\n",
    "    driver.get(book['url'])\n",
    "    \n",
    "    character_elems = driver.find_elements(By.CLASS_NAME, \"category-page__member-link\")\n",
    "    \n",
    "    for elems in character_elems:\n",
    "        character_list.append({'book': book['book_name'], 'character': elems.text})"
   ]
  },
  {
   "cell_type": "markdown",
   "id": "aee0dd89-2f1f-4888-a973-9899944c1815",
   "metadata": {},
   "source": [
    "**Convert the list (containing the character names and the books in which they appear) to a dataframe and save the dataframe as as csv file**"
   ]
  },
  {
   "cell_type": "code",
   "execution_count": 6,
   "id": "d8ed6153-cf07-4218-aad2-60131d19170c",
   "metadata": {},
   "outputs": [],
   "source": [
    "data = pd.DataFrame(character_list)\n",
    "data.to_csv(\"books_and_characters.csv\", index=False)"
   ]
  },
  {
   "cell_type": "markdown",
   "id": "d0252717-4671-4f26-ba33-06ff0559b15c",
   "metadata": {},
   "source": [
    ".\n",
    "\n",
    "\n",
    "\n",
    "### **Analysis of the data**"
   ]
  },
  {
   "cell_type": "markdown",
   "id": "40f3787b-0802-428f-a3dc-d473e1201bf9",
   "metadata": {},
   "source": [
    "**Install the spacy English collection**\n",
    "\n",
    "en_core_web_sm is a small English pipeline trained on written web text (blogs, news, comments), that includes vocabulary, syntax and entities"
   ]
  },
  {
   "cell_type": "code",
   "execution_count": 7,
   "id": "d7eb56cb-3a16-4c4c-8c69-c6a417dbf4b2",
   "metadata": {},
   "outputs": [
    {
     "name": "stdout",
     "output_type": "stream",
     "text": [
      "Collecting en-core-web-sm==3.3.0\n",
      "  Downloading https://github.com/explosion/spacy-models/releases/download/en_core_web_sm-3.3.0/en_core_web_sm-3.3.0-py3-none-any.whl (12.8 MB)\n",
      "     -------------------------------------- 12.8/12.8 MB 158.7 kB/s eta 0:00:00\n",
      "Requirement already satisfied: spacy<3.4.0,>=3.3.0.dev0 in c:\\users\\oluwanifemi.aweda\\desktop\\scraping\\venv\\lib\\site-packages (from en-core-web-sm==3.3.0) (3.3.1)\n",
      "Requirement already satisfied: pathy>=0.3.5 in c:\\users\\oluwanifemi.aweda\\desktop\\scraping\\venv\\lib\\site-packages (from spacy<3.4.0,>=3.3.0.dev0->en-core-web-sm==3.3.0) (0.6.1)\n",
      "Requirement already satisfied: langcodes<4.0.0,>=3.2.0 in c:\\users\\oluwanifemi.aweda\\desktop\\scraping\\venv\\lib\\site-packages (from spacy<3.4.0,>=3.3.0.dev0->en-core-web-sm==3.3.0) (3.3.0)\n",
      "Requirement already satisfied: thinc<8.1.0,>=8.0.14 in c:\\users\\oluwanifemi.aweda\\desktop\\scraping\\venv\\lib\\site-packages (from spacy<3.4.0,>=3.3.0.dev0->en-core-web-sm==3.3.0) (8.0.17)\n",
      "Requirement already satisfied: blis<0.8.0,>=0.4.0 in c:\\users\\oluwanifemi.aweda\\desktop\\scraping\\venv\\lib\\site-packages (from spacy<3.4.0,>=3.3.0.dev0->en-core-web-sm==3.3.0) (0.7.8)\n",
      "Requirement already satisfied: spacy-loggers<2.0.0,>=1.0.0 in c:\\users\\oluwanifemi.aweda\\desktop\\scraping\\venv\\lib\\site-packages (from spacy<3.4.0,>=3.3.0.dev0->en-core-web-sm==3.3.0) (1.0.2)\n",
      "Requirement already satisfied: tqdm<5.0.0,>=4.38.0 in c:\\users\\oluwanifemi.aweda\\desktop\\scraping\\venv\\lib\\site-packages (from spacy<3.4.0,>=3.3.0.dev0->en-core-web-sm==3.3.0) (4.64.0)\n",
      "Requirement already satisfied: srsly<3.0.0,>=2.4.3 in c:\\users\\oluwanifemi.aweda\\desktop\\scraping\\venv\\lib\\site-packages (from spacy<3.4.0,>=3.3.0.dev0->en-core-web-sm==3.3.0) (2.4.3)\n",
      "Requirement already satisfied: murmurhash<1.1.0,>=0.28.0 in c:\\users\\oluwanifemi.aweda\\desktop\\scraping\\venv\\lib\\site-packages (from spacy<3.4.0,>=3.3.0.dev0->en-core-web-sm==3.3.0) (1.0.7)\n",
      "Requirement already satisfied: setuptools in c:\\users\\oluwanifemi.aweda\\desktop\\scraping\\venv\\lib\\site-packages (from spacy<3.4.0,>=3.3.0.dev0->en-core-web-sm==3.3.0) (58.1.0)\n",
      "Requirement already satisfied: wasabi<1.1.0,>=0.9.1 in c:\\users\\oluwanifemi.aweda\\desktop\\scraping\\venv\\lib\\site-packages (from spacy<3.4.0,>=3.3.0.dev0->en-core-web-sm==3.3.0) (0.9.1)\n",
      "Requirement already satisfied: numpy>=1.15.0 in c:\\users\\oluwanifemi.aweda\\desktop\\scraping\\venv\\lib\\site-packages (from spacy<3.4.0,>=3.3.0.dev0->en-core-web-sm==3.3.0) (1.23.0)\n",
      "Requirement already satisfied: packaging>=20.0 in c:\\users\\oluwanifemi.aweda\\desktop\\scraping\\venv\\lib\\site-packages (from spacy<3.4.0,>=3.3.0.dev0->en-core-web-sm==3.3.0) (21.3)\n",
      "Requirement already satisfied: requests<3.0.0,>=2.13.0 in c:\\users\\oluwanifemi.aweda\\desktop\\scraping\\venv\\lib\\site-packages (from spacy<3.4.0,>=3.3.0.dev0->en-core-web-sm==3.3.0) (2.28.0)\n",
      "Requirement already satisfied: spacy-legacy<3.1.0,>=3.0.9 in c:\\users\\oluwanifemi.aweda\\desktop\\scraping\\venv\\lib\\site-packages (from spacy<3.4.0,>=3.3.0.dev0->en-core-web-sm==3.3.0) (3.0.9)\n",
      "Requirement already satisfied: jinja2 in c:\\users\\oluwanifemi.aweda\\desktop\\scraping\\venv\\lib\\site-packages (from spacy<3.4.0,>=3.3.0.dev0->en-core-web-sm==3.3.0) (3.1.2)\n",
      "Requirement already satisfied: catalogue<2.1.0,>=2.0.6 in c:\\users\\oluwanifemi.aweda\\desktop\\scraping\\venv\\lib\\site-packages (from spacy<3.4.0,>=3.3.0.dev0->en-core-web-sm==3.3.0) (2.0.7)\n",
      "Requirement already satisfied: cymem<2.1.0,>=2.0.2 in c:\\users\\oluwanifemi.aweda\\desktop\\scraping\\venv\\lib\\site-packages (from spacy<3.4.0,>=3.3.0.dev0->en-core-web-sm==3.3.0) (2.0.6)\n",
      "Requirement already satisfied: preshed<3.1.0,>=3.0.2 in c:\\users\\oluwanifemi.aweda\\desktop\\scraping\\venv\\lib\\site-packages (from spacy<3.4.0,>=3.3.0.dev0->en-core-web-sm==3.3.0) (3.0.6)\n",
      "Requirement already satisfied: typer<0.5.0,>=0.3.0 in c:\\users\\oluwanifemi.aweda\\desktop\\scraping\\venv\\lib\\site-packages (from spacy<3.4.0,>=3.3.0.dev0->en-core-web-sm==3.3.0) (0.4.1)\n",
      "Requirement already satisfied: pydantic!=1.8,!=1.8.1,<1.9.0,>=1.7.4 in c:\\users\\oluwanifemi.aweda\\desktop\\scraping\\venv\\lib\\site-packages (from spacy<3.4.0,>=3.3.0.dev0->en-core-web-sm==3.3.0) (1.8.2)\n",
      "Requirement already satisfied: pyparsing!=3.0.5,>=2.0.2 in c:\\users\\oluwanifemi.aweda\\desktop\\scraping\\venv\\lib\\site-packages (from packaging>=20.0->spacy<3.4.0,>=3.3.0.dev0->en-core-web-sm==3.3.0) (3.0.9)\n",
      "Requirement already satisfied: smart-open<6.0.0,>=5.0.0 in c:\\users\\oluwanifemi.aweda\\desktop\\scraping\\venv\\lib\\site-packages (from pathy>=0.3.5->spacy<3.4.0,>=3.3.0.dev0->en-core-web-sm==3.3.0) (5.2.1)\n",
      "Requirement already satisfied: typing-extensions>=3.7.4.3 in c:\\users\\oluwanifemi.aweda\\desktop\\scraping\\venv\\lib\\site-packages (from pydantic!=1.8,!=1.8.1,<1.9.0,>=1.7.4->spacy<3.4.0,>=3.3.0.dev0->en-core-web-sm==3.3.0) (4.2.0)\n",
      "Requirement already satisfied: charset-normalizer~=2.0.0 in c:\\users\\oluwanifemi.aweda\\desktop\\scraping\\venv\\lib\\site-packages (from requests<3.0.0,>=2.13.0->spacy<3.4.0,>=3.3.0.dev0->en-core-web-sm==3.3.0) (2.0.12)\n",
      "Requirement already satisfied: urllib3<1.27,>=1.21.1 in c:\\users\\oluwanifemi.aweda\\desktop\\scraping\\venv\\lib\\site-packages (from requests<3.0.0,>=2.13.0->spacy<3.4.0,>=3.3.0.dev0->en-core-web-sm==3.3.0) (1.26.9)\n",
      "Requirement already satisfied: certifi>=2017.4.17 in c:\\users\\oluwanifemi.aweda\\desktop\\scraping\\venv\\lib\\site-packages (from requests<3.0.0,>=2.13.0->spacy<3.4.0,>=3.3.0.dev0->en-core-web-sm==3.3.0) (2022.6.15)\n",
      "Requirement already satisfied: idna<4,>=2.5 in c:\\users\\oluwanifemi.aweda\\desktop\\scraping\\venv\\lib\\site-packages (from requests<3.0.0,>=2.13.0->spacy<3.4.0,>=3.3.0.dev0->en-core-web-sm==3.3.0) (3.3)\n",
      "Requirement already satisfied: colorama in c:\\users\\oluwanifemi.aweda\\desktop\\scraping\\venv\\lib\\site-packages (from tqdm<5.0.0,>=4.38.0->spacy<3.4.0,>=3.3.0.dev0->en-core-web-sm==3.3.0) (0.4.5)\n",
      "Requirement already satisfied: click<9.0.0,>=7.1.1 in c:\\users\\oluwanifemi.aweda\\desktop\\scraping\\venv\\lib\\site-packages (from typer<0.5.0,>=0.3.0->spacy<3.4.0,>=3.3.0.dev0->en-core-web-sm==3.3.0) (8.1.3)\n",
      "Requirement already satisfied: MarkupSafe>=2.0 in c:\\users\\oluwanifemi.aweda\\desktop\\scraping\\venv\\lib\\site-packages (from jinja2->spacy<3.4.0,>=3.3.0.dev0->en-core-web-sm==3.3.0) (2.1.1)\n",
      "[+] Download and installation successful\n",
      "You can now load the package via spacy.load('en_core_web_sm')\n"
     ]
    }
   ],
   "source": [
    "!python -m spacy download en_core_web_sm"
   ]
  },
  {
   "cell_type": "markdown",
   "id": "2f730220-a241-4d94-8ff2-96d717fbfaf8",
   "metadata": {},
   "source": [
    "**Initialize a Named Entity Recognition (NER)**"
   ]
  },
  {
   "cell_type": "code",
   "execution_count": 8,
   "id": "759f2edf-70ec-4743-b7b4-049d30fc9c70",
   "metadata": {},
   "outputs": [],
   "source": [
    "# Load spacy English languague model\n",
    "NER = spacy.load(\"en_core_web_sm\")"
   ]
  },
  {
   "cell_type": "markdown",
   "id": "38c0ea18-2229-44e9-aa27-33fdc532bd18",
   "metadata": {},
   "source": [
    "**Load the books used**\n",
    "\n",
    "The book text files was downloaded from an online github repository. Try visiualizing a single books identified entities."
   ]
  },
  {
   "cell_type": "code",
   "execution_count": 9,
   "id": "462bd074-4eac-4702-ab89-6e38a8f5a9e6",
   "metadata": {},
   "outputs": [],
   "source": [
    "# Get all book files in the data directory\n",
    "all_books = [b for b in os.scandir('data') if '.txt' in b.name]"
   ]
  },
  {
   "cell_type": "code",
   "execution_count": 10,
   "id": "ab7f1f1a-15ed-4f79-a4f1-bf66f77bb1ba",
   "metadata": {},
   "outputs": [
    {
     "data": {
      "text/html": [
       "<span class=\"tex2jax_ignore\"><div class=\"entities\" style=\"line-height: 2.5; direction: ltr\">ï»¿The Limits of the Possible</br>I</br>&quot;He's not coming back out, I tell you!&quot; stated a pimply-faced man, shaking his head with</br>finality. &quot;It's been \n",
       "<mark class=\"entity\" style=\"background: #bfe1d9; padding: 0.45em 0.6em; margin: 0 0.25em; line-height: 1; border-radius: 0.35em;\">\n",
       "    an hour and a quarter\n",
       "    <span style=\"font-size: 0.8em; font-weight: bold; line-height: 1; border-radius: 0.35em; vertical-align: middle; margin-left: 0.5rem\">TIME</span>\n",
       "</mark>\n",
       " since he went in. He's done for.&quot;</br>The townsfolk, huddled together in the midst of the ruins and rubble, watched the gaping</br>black hole of the entrance to the tunnel in silence. A fat man dressed in a yellow smock</br>shifted slightly from one foot to the other, cleared his throat and pulled his wrinkled cap from</br>his head.</br>&quot;We have to wait a bit longer,&quot; he said as he wiped the sweat from his sparse eyebrows.</br>&quot;Why wait?&quot; snorted pimply, &quot;There in the caves lurks a basilisk, or have you forgotten,</br>burgrave? Anyone goes down there, that's the end of them. Have you forgotten how many</br>have died down there already? What are we waiting for?&quot;</br>&quot;This was the agreement, wasn't it?&quot; murmured the fat man uncertainly.</br>&quot;An agreement you made with a living man, burgrave&quot; said the pimply-faced man's</br>companion, a giant of a man in a leather butcher's apron. &quot;He is now dead, as surely as the</br>sun shines in the sky. It was plain from the beginning that he was headed towards death, like</br>all the others before him. He didn't even take a mirror with him, only a sword - and</br>everybody knows you need a mirror in order to kill a basilisk.&quot;</br>&quot;At least we've saved some coin,&quot; added pimples &quot;there's no one to pay for taking care of the</br>basilisk. You might as well go home. As far as the sorcerer's horse and baggage... well it</br>would be a shame if they went to waste.&quot;</br>&quot;Yes,&quot; said the butcher, &quot;It's a fine old mare and the saddlebags are full. Let's take a look.&quot;</br>&quot;What are you doing?&quot;</br>&quot;Shut up, burgrave. Don't get in the way unless you want a punch in the face,&quot; threatened the</br>pimpled man.</br>&quot;A fine old mare,&quot; repeated the butcher.</br>&quot;Leave the horse alone, my darling.&quot;</br>The butcher slowly turned around towards the stranger who had suddenly appeared from</br>behind a collapsed wall, just at the back of the audience gathered around the tunnel entrance.</br>The stranger had thick curly brown hair and wore a dark brown tunic under a puffy cotton</br>coat and tall riding boots. He had no weapons.</br>\n",
       "<mark class=\"entity\" style=\"background: #e4e7d2; padding: 0.45em 0.6em; margin: 0 0.25em; line-height: 1; border-radius: 0.35em;\">\n",
       "    3\n",
       "    <span style=\"font-size: 0.8em; font-weight: bold; line-height: 1; border-radius: 0.35em; vertical-align: middle; margin-left: 0.5rem\">CARDINAL</span>\n",
       "</mark>\n",
       "</br>&quot;Step away from the horse,&quot; he repeated with a menacing smile. &quot;What have we here? A horse and saddlebags belonging to another and yet you eye them greedily and paw through them. Is that honourable?&quot;</br>\n",
       "<mark class=\"entity\" style=\"background: #feca74; padding: 0.45em 0.6em; margin: 0 0.25em; line-height: 1; border-radius: 0.35em;\">\n",
       "    Pimply\n",
       "    <span style=\"font-size: 0.8em; font-weight: bold; line-height: 1; border-radius: 0.35em; vertical-align: middle; margin-left: 0.5rem\">GPE</span>\n",
       "</mark>\n",
       " slowly slipped a hand inside his overcoat and glanced at the butcher. The butcher gave a nod and signalled toward the crowd, out of which stepped \n",
       "<mark class=\"entity\" style=\"background: #e4e7d2; padding: 0.45em 0.6em; margin: 0 0.25em; line-height: 1; border-radius: 0.35em;\">\n",
       "    two\n",
       "    <span style=\"font-size: 0.8em; font-weight: bold; line-height: 1; border-radius: 0.35em; vertical-align: middle; margin-left: 0.5rem\">CARDINAL</span>\n",
       "</mark>\n",
       " strong, close cropped, youths. Both carried heavy clubs, like those used to stun animals in the slaughterhouse.</br>&quot;Who are you?&quot; demanded the pimply-faced man, whose hand remained hidden inside his overcoat, &quot;to tell us what is and isn't honourable?&quot;</br>&quot;That's none of your business, my dear.&quot;</br>&quot;You carry no weapons.&quot;</br>&quot;That's true,&quot; the stranger's smile grew even more poisonous, &quot;I don't carry weapons.&quot;</br>&quot;That's no good,&quot; pimply drew a long knife out from inside his coat, &quot;Too bad for you you're not armed.&quot;</br>The butcher also drew a blade; a long hunting knife. The other \n",
       "<mark class=\"entity\" style=\"background: #e4e7d2; padding: 0.45em 0.6em; margin: 0 0.25em; line-height: 1; border-radius: 0.35em;\">\n",
       "    two\n",
       "    <span style=\"font-size: 0.8em; font-weight: bold; line-height: 1; border-radius: 0.35em; vertical-align: middle; margin-left: 0.5rem\">CARDINAL</span>\n",
       "</mark>\n",
       " men approached, brandishing their clubs.</br>&quot;I don't carry weapons,&quot; responded the stranger, not budging, &quot;but I'm always armed.&quot;</br>From behind the ruins, \n",
       "<mark class=\"entity\" style=\"background: #e4e7d2; padding: 0.45em 0.6em; margin: 0 0.25em; line-height: 1; border-radius: 0.35em;\">\n",
       "    two\n",
       "    <span style=\"font-size: 0.8em; font-weight: bold; line-height: 1; border-radius: 0.35em; vertical-align: middle; margin-left: 0.5rem\">CARDINAL</span>\n",
       "</mark>\n",
       " young women stepped out lightly and confidently. The crowd quickly parted, retreated then thinned out.</br>The girls smiled, flashing their teeth, and blinked. They had blue stripes tattooed from the corners of their eyes to the tips of their ears. Lynx pelt clad their strong muscles from thigh to hip and their bare arms curved above their mail gauntlets. From behind the mail-clad shoulder of each rose the hilt of a sabre.</br>Pimply got down on \n",
       "<mark class=\"entity\" style=\"background: #e4e7d2; padding: 0.45em 0.6em; margin: 0 0.25em; line-height: 1; border-radius: 0.35em;\">\n",
       "    one\n",
       "    <span style=\"font-size: 0.8em; font-weight: bold; line-height: 1; border-radius: 0.35em; vertical-align: middle; margin-left: 0.5rem\">CARDINAL</span>\n",
       "</mark>\n",
       " knee and slowly, very slowly, placed his knife on the ground.</br>From the hole in ruins came a rumble of stones, grinding, and then from the darkness there emerged \n",
       "<mark class=\"entity\" style=\"background: #e4e7d2; padding: 0.45em 0.6em; margin: 0 0.25em; line-height: 1; border-radius: 0.35em;\">\n",
       "    two\n",
       "    <span style=\"font-size: 0.8em; font-weight: bold; line-height: 1; border-radius: 0.35em; vertical-align: middle; margin-left: 0.5rem\">CARDINAL</span>\n",
       "</mark>\n",
       " hands clutching the jagged edge of the wall. Following the hands, a white head appeared, the hair powdered with brick dust, a pale face and then, finally, shoulders, above which stood the hilt of a sword. A murmur escaped the crowd.</br>The alabaster-haired man straightened and pulled a strange shape from the hole; a small, odd looking body covered in dust and blood. Holding the beast by its long lizard-like tail, the man tossed it to the feet of the burgrave without a word. The burgrave jumped backwards and tripped on a fragment of wall, his eyes glued to a curved bird-like beak, webbed crescent-shaped wings and claws like sickles on its scaly feet. Its slashed throat, once carmine, was now a dirty red-brown. Its sunken eyes were glassy.</br>&quot;Here's the basilisk,&quot; said the white-haired man as he brushed the dust from his trousers, &quot;As agreed, that'll be \n",
       "<mark class=\"entity\" style=\"background: #e4e7d2; padding: 0.45em 0.6em; margin: 0 0.25em; line-height: 1; border-radius: 0.35em;\">\n",
       "    200\n",
       "    <span style=\"font-size: 0.8em; font-weight: bold; line-height: 1; border-radius: 0.35em; vertical-align: middle; margin-left: 0.5rem\">CARDINAL</span>\n",
       "</mark>\n",
       " lintars, good ones, not too worn. I will check them, I'm warning you.&quot;</br>\n",
       "<mark class=\"entity\" style=\"background: #e4e7d2; padding: 0.45em 0.6em; margin: 0 0.25em; line-height: 1; border-radius: 0.35em;\">\n",
       "    4\n",
       "    <span style=\"font-size: 0.8em; font-weight: bold; line-height: 1; border-radius: 0.35em; vertical-align: middle; margin-left: 0.5rem\">CARDINAL</span>\n",
       "</mark>\n",
       "</br>With shaking hands, the burgrave produced a large purse. The white-haired man looked around at the townsfolk, his gaze resting on the pimply-faced man, his discarded knife at his feet. He also noticed the man in the brown tunic and the young women in the lynx pelts.</br>&quot;It's always the same,&quot; he said as he took the purse from the burgrave's nervous hands, &quot;I risk my neck for a few measly coins and you, meanwhile, try to rob me. You people never change, damn you to hell!&quot;</br>&quot;We haven't touched your bags,&quot; the butcher muttered, backing away. The men armed with the clubs had long since hidden themselves in the crowd. &quot;Your things have not been disturbed, sir&quot;</br>&quot;I'm glad to hear it,&quot; the white-haired man smiled. At the sight of his smile, which bloomed on his pale face like an open wound, the crowd began to disperse. &quot;And that is why, brother, you have nothing to worry about. Go in peace. But go quickly.&quot;</br>Pimply, backing away, was about to run. The spots stood out on his pallid face making him look even more hideous.</br>&quot;Hey! Wait \n",
       "<mark class=\"entity\" style=\"background: #bfe1d9; padding: 0.45em 0.6em; margin: 0 0.25em; line-height: 1; border-radius: 0.35em;\">\n",
       "    a minute\n",
       "    <span style=\"font-size: 0.8em; font-weight: bold; line-height: 1; border-radius: 0.35em; vertical-align: middle; margin-left: 0.5rem\">TIME</span>\n",
       "</mark>\n",
       "!&quot; called the man in the brown tunic, &quot;You've forgotten about something.&quot;</br>&quot;What's that... sir?&quot;</br>&quot;You pulled a knife on me.&quot;</br>The tallest of the young women, who stood waiting with her long legs apart, turned on her hip. Her sabre, drawn faster than the eye could see, cut through the air. The head of the pimply-faced man flew upwards, tracing an arc before disappearing into the gaping hole. His body rolled stiff and heavy, like a freshly felled tree, amongst the broken rubble. The crowd cried out in unison. The \n",
       "<mark class=\"entity\" style=\"background: #e4e7d2; padding: 0.45em 0.6em; margin: 0 0.25em; line-height: 1; border-radius: 0.35em;\">\n",
       "    second\n",
       "    <span style=\"font-size: 0.8em; font-weight: bold; line-height: 1; border-radius: 0.35em; vertical-align: middle; margin-left: 0.5rem\">ORDINAL</span>\n",
       "</mark>\n",
       " girl, her hand on the hilt of her sabre, turned agilely, covering her back. It was unnecessary - the crowd rushed and stumbled through the ruins towards the town as fast as their legs could carry them. At the head of the crowd, leaping impressively, was the burgrave - slightly ahead of the butcher.</br>&quot;A beautiful strike,&quot; commented the white-haired man coldly as he shielded his eyes from the sun with a black-gloved hand. &quot;A beautiful strike from a \n",
       "<mark class=\"entity\" style=\"background: #c887fb; padding: 0.45em 0.6em; margin: 0 0.25em; line-height: 1; border-radius: 0.35em;\">\n",
       "    Zerrikanian\n",
       "    <span style=\"font-size: 0.8em; font-weight: bold; line-height: 1; border-radius: 0.35em; vertical-align: middle; margin-left: 0.5rem\">NORP</span>\n",
       "</mark>\n",
       " sabre. I humbly bow before the skill and beauty of free warrior women. I am Geralt of \n",
       "<mark class=\"entity\" style=\"background: #feca74; padding: 0.45em 0.6em; margin: 0 0.25em; line-height: 1; border-radius: 0.35em;\">\n",
       "    Rivia\n",
       "    <span style=\"font-size: 0.8em; font-weight: bold; line-height: 1; border-radius: 0.35em; vertical-align: middle; margin-left: 0.5rem\">GPE</span>\n",
       "</mark>\n",
       ".&quot;</br>&quot;And I...&quot; the unknown man indicated to a faded coat of arms emblazoned on his brown tunic representing \n",
       "<mark class=\"entity\" style=\"background: #e4e7d2; padding: 0.45em 0.6em; margin: 0 0.25em; line-height: 1; border-radius: 0.35em;\">\n",
       "    three\n",
       "    <span style=\"font-size: 0.8em; font-weight: bold; line-height: 1; border-radius: 0.35em; vertical-align: middle; margin-left: 0.5rem\">CARDINAL</span>\n",
       "</mark>\n",
       " black birds aligned on a field of gold, &quot;I am Borch, also called \n",
       "<mark class=\"entity\" style=\"background: #7aecec; padding: 0.45em 0.6em; margin: 0 0.25em; line-height: 1; border-radius: 0.35em;\">\n",
       "    Three Jackdaws\n",
       "    <span style=\"font-size: 0.8em; font-weight: bold; line-height: 1; border-radius: 0.35em; vertical-align: middle; margin-left: 0.5rem\">ORG</span>\n",
       "</mark>\n",
       ". And these are my bodyguards \n",
       "<mark class=\"entity\" style=\"background: #7aecec; padding: 0.45em 0.6em; margin: 0 0.25em; line-height: 1; border-radius: 0.35em;\">\n",
       "    Tea\n",
       "    <span style=\"font-size: 0.8em; font-weight: bold; line-height: 1; border-radius: 0.35em; vertical-align: middle; margin-left: 0.5rem\">ORG</span>\n",
       "</mark>\n",
       " and \n",
       "<mark class=\"entity\" style=\"background: #7aecec; padding: 0.45em 0.6em; margin: 0 0.25em; line-height: 1; border-radius: 0.35em;\">\n",
       "    Vea\n",
       "    <span style=\"font-size: 0.8em; font-weight: bold; line-height: 1; border-radius: 0.35em; vertical-align: middle; margin-left: 0.5rem\">ORG</span>\n",
       "</mark>\n",
       ". At least that's what I call them because their true names are a tongue twister. They are both, as you so finely guessed, \n",
       "<mark class=\"entity\" style=\"background: #feca74; padding: 0.45em 0.6em; margin: 0 0.25em; line-height: 1; border-radius: 0.35em;\">\n",
       "    Zerrikanian\n",
       "    <span style=\"font-size: 0.8em; font-weight: bold; line-height: 1; border-radius: 0.35em; vertical-align: middle; margin-left: 0.5rem\">GPE</span>\n",
       "</mark>\n",
       ".&quot;</br>&quot;Thanks to them, or so it would seem, I still have my horse and belongings. My thanks to you, warriors, and also to you, noble lord.&quot;</br>\n",
       "<mark class=\"entity\" style=\"background: #e4e7d2; padding: 0.45em 0.6em; margin: 0 0.25em; line-height: 1; border-radius: 0.35em;\">\n",
       "    5\n",
       "    <span style=\"font-size: 0.8em; font-weight: bold; line-height: 1; border-radius: 0.35em; vertical-align: middle; margin-left: 0.5rem\">CARDINAL</span>\n",
       "</mark>\n",
       "</br>&quot;\n",
       "<mark class=\"entity\" style=\"background: #f0d0ff; padding: 0.45em 0.6em; margin: 0 0.25em; line-height: 1; border-radius: 0.35em;\">\n",
       "    Three Jackdaws\n",
       "    <span style=\"font-size: 0.8em; font-weight: bold; line-height: 1; border-radius: 0.35em; vertical-align: middle; margin-left: 0.5rem\">WORK_OF_ART</span>\n",
       "</mark>\n",
       ". And I'm no gentleman. Is there anything keeping you in this region, \n",
       "<mark class=\"entity\" style=\"background: #7aecec; padding: 0.45em 0.6em; margin: 0 0.25em; line-height: 1; border-radius: 0.35em;\">\n",
       "    Geralt of Rivia\n",
       "    <span style=\"font-size: 0.8em; font-weight: bold; line-height: 1; border-radius: 0.35em; vertical-align: middle; margin-left: 0.5rem\">ORG</span>\n",
       "</mark>\n",
       "?&quot;</br>&quot;Nothing at all.&quot;</br>&quot;\n",
       "<mark class=\"entity\" style=\"background: #f0d0ff; padding: 0.45em 0.6em; margin: 0 0.25em; line-height: 1; border-radius: 0.35em;\">\n",
       "    Perfect\n",
       "    <span style=\"font-size: 0.8em; font-weight: bold; line-height: 1; border-radius: 0.35em; vertical-align: middle; margin-left: 0.5rem\">WORK_OF_ART</span>\n",
       "</mark>\n",
       ". In that case, I have a proposition. Not far from here, at the crossroads on the road to the river-port, is an inn called \n",
       "<mark class=\"entity\" style=\"background: #f0d0ff; padding: 0.45em 0.6em; margin: 0 0.25em; line-height: 1; border-radius: 0.35em;\">\n",
       "    The Pensive Dragon\n",
       "    <span style=\"font-size: 0.8em; font-weight: bold; line-height: 1; border-radius: 0.35em; vertical-align: middle; margin-left: 0.5rem\">WORK_OF_ART</span>\n",
       "</mark>\n",
       ". The food is unequalled throughout this whole region. I'm on my way there now with the intention of dining and spending \n",
       "<mark class=\"entity\" style=\"background: #bfe1d9; padding: 0.45em 0.6em; margin: 0 0.25em; line-height: 1; border-radius: 0.35em;\">\n",
       "    the night\n",
       "    <span style=\"font-size: 0.8em; font-weight: bold; line-height: 1; border-radius: 0.35em; vertical-align: middle; margin-left: 0.5rem\">TIME</span>\n",
       "</mark>\n",
       ". It would be an honour if you would accompany me.&quot;</br>&quot;\n",
       "<mark class=\"entity\" style=\"background: #c887fb; padding: 0.45em 0.6em; margin: 0 0.25em; line-height: 1; border-radius: 0.35em;\">\n",
       "    Borch\n",
       "    <span style=\"font-size: 0.8em; font-weight: bold; line-height: 1; border-radius: 0.35em; vertical-align: middle; margin-left: 0.5rem\">NORP</span>\n",
       "</mark>\n",
       ",&quot; replied \n",
       "<mark class=\"entity\" style=\"background: #aa9cfc; padding: 0.45em 0.6em; margin: 0 0.25em; line-height: 1; border-radius: 0.35em;\">\n",
       "    Geralt\n",
       "    <span style=\"font-size: 0.8em; font-weight: bold; line-height: 1; border-radius: 0.35em; vertical-align: middle; margin-left: 0.5rem\">PERSON</span>\n",
       "</mark>\n",
       ", white head turning away from his horse, looking into the bright eyes of the stranger, &quot;I'd like you to know so that there be no misunderstanding between us. I'm a witcher.&quot;</br>&quot;I thought as much. And you said that as if you were saying, 'I'm a leper.'&quot;</br>&quot;There are some,&quot; \n",
       "<mark class=\"entity\" style=\"background: #aa9cfc; padding: 0.45em 0.6em; margin: 0 0.25em; line-height: 1; border-radius: 0.35em;\">\n",
       "    Geralt\n",
       "    <span style=\"font-size: 0.8em; font-weight: bold; line-height: 1; border-radius: 0.35em; vertical-align: middle; margin-left: 0.5rem\">PERSON</span>\n",
       "</mark>\n",
       " replied calmly, &quot;that would prefer the company of a leper to that of a witcher.&quot;</br>&quot;And there are others,&quot; replied \n",
       "<mark class=\"entity\" style=\"background: #e4e7d2; padding: 0.45em 0.6em; margin: 0 0.25em; line-height: 1; border-radius: 0.35em;\">\n",
       "    Three\n",
       "    <span style=\"font-size: 0.8em; font-weight: bold; line-height: 1; border-radius: 0.35em; vertical-align: middle; margin-left: 0.5rem\">CARDINAL</span>\n",
       "</mark>\n",
       " Jackdaws with a smile, &quot;who would prefer the company of sheep to that of young ladies. In the end, all I can do is pity them. I stand by my proposal.&quot;</div></span>"
      ],
      "text/plain": [
       "<IPython.core.display.HTML object>"
      ]
     },
     "metadata": {},
     "output_type": "display_data"
    }
   ],
   "source": [
    "book = all_books[1]\n",
    "book_text = open(book).read()\n",
    "book_doc = NER(book_text)\n",
    "\n",
    "displacy.render(book_doc[0:2000], style=\"ent\", jupyter=True)"
   ]
  },
  {
   "cell_type": "markdown",
   "id": "4ec6ff05-ed69-4eaa-bfd1-4d8895ade6d0",
   "metadata": {},
   "source": [
    "**Load the character names from the crapped file**\n",
    "\n",
    "Clean up the names by removing the brackets from the name column and extracting first name."
   ]
  },
  {
   "cell_type": "code",
   "execution_count": 12,
   "id": "88b98c8a-cfef-4850-b1d4-f0aa7af83c39",
   "metadata": {},
   "outputs": [],
   "source": [
    "character_df = pd.read_csv(\"books_and_characters.csv\")"
   ]
  },
  {
   "cell_type": "code",
   "execution_count": 13,
   "id": "7023a736-ac49-44f0-aefd-96372ff5d67e",
   "metadata": {},
   "outputs": [],
   "source": [
    "character_df['character'] = character_df['character'].apply(lambda x: re.sub(\"[\\(].*?[\\)]\", \"\", x)) \n",
    "character_df['character_firstname'] = character_df['character'].apply(lambda x: x.split(' ', 1)[0])"
   ]
  },
  {
   "cell_type": "code",
   "execution_count": 14,
   "id": "cea2a284-488b-4d7d-a5cc-ac6cf8ebea12",
   "metadata": {},
   "outputs": [
    {
     "data": {
      "text/html": [
       "<div>\n",
       "<style scoped>\n",
       "    .dataframe tbody tr th:only-of-type {\n",
       "        vertical-align: middle;\n",
       "    }\n",
       "\n",
       "    .dataframe tbody tr th {\n",
       "        vertical-align: top;\n",
       "    }\n",
       "\n",
       "    .dataframe thead th {\n",
       "        text-align: right;\n",
       "    }\n",
       "</style>\n",
       "<table border=\"1\" class=\"dataframe\">\n",
       "  <thead>\n",
       "    <tr style=\"text-align: right;\">\n",
       "      <th></th>\n",
       "      <th>book</th>\n",
       "      <th>character</th>\n",
       "      <th>character_firstname</th>\n",
       "    </tr>\n",
       "  </thead>\n",
       "  <tbody>\n",
       "    <tr>\n",
       "      <th>0</th>\n",
       "      <td>Category:Baptism of Fire characters</td>\n",
       "      <td>Adalia</td>\n",
       "      <td>Adalia</td>\n",
       "    </tr>\n",
       "    <tr>\n",
       "      <th>1</th>\n",
       "      <td>Category:Baptism of Fire characters</td>\n",
       "      <td>Adela</td>\n",
       "      <td>Adela</td>\n",
       "    </tr>\n",
       "    <tr>\n",
       "      <th>2</th>\n",
       "      <td>Category:Baptism of Fire characters</td>\n",
       "      <td>Aen Saevherne</td>\n",
       "      <td>Aen</td>\n",
       "    </tr>\n",
       "    <tr>\n",
       "      <th>3</th>\n",
       "      <td>Category:Baptism of Fire characters</td>\n",
       "      <td>Aevenien</td>\n",
       "      <td>Aevenien</td>\n",
       "    </tr>\n",
       "    <tr>\n",
       "      <th>4</th>\n",
       "      <td>Category:Baptism of Fire characters</td>\n",
       "      <td>Aglaïs</td>\n",
       "      <td>Aglaïs</td>\n",
       "    </tr>\n",
       "  </tbody>\n",
       "</table>\n",
       "</div>"
      ],
      "text/plain": [
       "                                  book      character character_firstname\n",
       "0  Category:Baptism of Fire characters         Adalia              Adalia\n",
       "1  Category:Baptism of Fire characters          Adela               Adela\n",
       "2  Category:Baptism of Fire characters  Aen Saevherne                 Aen\n",
       "3  Category:Baptism of Fire characters       Aevenien            Aevenien\n",
       "4  Category:Baptism of Fire characters         Aglaïs              Aglaïs"
      ]
     },
     "execution_count": 14,
     "metadata": {},
     "output_type": "execute_result"
    }
   ],
   "source": [
    "character_df.head()"
   ]
  },
  {
   "cell_type": "markdown",
   "id": "6744d1b7-5b07-459b-bb12-2fc921d1e15c",
   "metadata": {},
   "source": [
    "**Get named entity list per sentence**"
   ]
  },
  {
   "cell_type": "code",
   "execution_count": 15,
   "id": "031fce61-0513-41a4-b3d4-6e2a86b88fa4",
   "metadata": {},
   "outputs": [],
   "source": [
    "sent_entity_df = []\n",
    "\n",
    "# Loop through sentences, store named entity list for each sentence\n",
    "for sent in book_doc.sents:\n",
    "    entity_list = [ent.text for ent in sent.ents]\n",
    "    sent_entity_df.append({\"sentence\": sent, \"entities\": entity_list})\n",
    "    \n",
    "sent_entity_df = pd.DataFrame(sent_entity_df)"
   ]
  },
  {
   "cell_type": "code",
   "execution_count": 16,
   "id": "5727382e-19af-4ba3-9c79-05f51b53ed5b",
   "metadata": {},
   "outputs": [],
   "source": [
    "# Function to filter out non-character entities\n",
    "def filter_entity(ent_list, character_df):\n",
    "    return [ent for ent in ent_list \n",
    "            if ent in list(character_df.character) \n",
    "            or ent in list(character_df.character_firstname)]"
   ]
  },
  {
   "cell_type": "code",
   "execution_count": 17,
   "id": "21dddd1f-c6b3-47ab-8cad-63dea5947784",
   "metadata": {},
   "outputs": [
    {
     "data": {
      "text/html": [
       "<div>\n",
       "<style scoped>\n",
       "    .dataframe tbody tr th:only-of-type {\n",
       "        vertical-align: middle;\n",
       "    }\n",
       "\n",
       "    .dataframe tbody tr th {\n",
       "        vertical-align: top;\n",
       "    }\n",
       "\n",
       "    .dataframe thead th {\n",
       "        text-align: right;\n",
       "    }\n",
       "</style>\n",
       "<table border=\"1\" class=\"dataframe\">\n",
       "  <thead>\n",
       "    <tr style=\"text-align: right;\">\n",
       "      <th></th>\n",
       "      <th>sentence</th>\n",
       "      <th>entities</th>\n",
       "      <th>character_entities</th>\n",
       "    </tr>\n",
       "  </thead>\n",
       "  <tbody>\n",
       "    <tr>\n",
       "      <th>89</th>\n",
       "      <td>(Is, there, anything, keeping, you, in, this, ...</td>\n",
       "      <td>[Geralt of Rivia, Perfect]</td>\n",
       "      <td>[Geralt of Rivia]</td>\n",
       "    </tr>\n",
       "    <tr>\n",
       "      <th>95</th>\n",
       "      <td>(\", \\n, \", Borch, ,, \", replied, Geralt, ,, wh...</td>\n",
       "      <td>[Borch, Geralt]</td>\n",
       "      <td>[Geralt]</td>\n",
       "    </tr>\n",
       "    <tr>\n",
       "      <th>98</th>\n",
       "      <td>(And, you, said, that, as, if, you, were, sayi...</td>\n",
       "      <td>[Geralt]</td>\n",
       "      <td>[Geralt]</td>\n",
       "    </tr>\n",
       "    <tr>\n",
       "      <th>102</th>\n",
       "      <td>(\", \\n, Geralt, took, off, a, glove, and, shoo...</td>\n",
       "      <td>[Geralt]</td>\n",
       "      <td>[Geralt]</td>\n",
       "    </tr>\n",
       "    <tr>\n",
       "      <th>130</th>\n",
       "      <td>(\\n, \", I, forgot, ,, \", Three, Jackdaws, wink...</td>\n",
       "      <td>[Three Jackdaws, Geralt]</td>\n",
       "      <td>[Geralt]</td>\n",
       "    </tr>\n",
       "    <tr>\n",
       "      <th>141</th>\n",
       "      <td>(Geralt, loosened, his, belt, ,, removed, his,...</td>\n",
       "      <td>[Geralt]</td>\n",
       "      <td>[Geralt]</td>\n",
       "    </tr>\n",
       "    <tr>\n",
       "      <th>146</th>\n",
       "      <td>(\\n, \", Do, the, girls, speak, the, common, la...</td>\n",
       "      <td>[Geralt]</td>\n",
       "      <td>[Geralt]</td>\n",
       "    </tr>\n",
       "    <tr>\n",
       "      <th>149</th>\n",
       "      <td>(How, 's, your, soup, ,, Geralt, ?, \", \\n, \", ...</td>\n",
       "      <td>[Geralt]</td>\n",
       "      <td>[Geralt]</td>\n",
       "    </tr>\n",
       "    <tr>\n",
       "      <th>158</th>\n",
       "      <td>(Yet, there, is, a, certain, principal, underl...</td>\n",
       "      <td>[Geralt]</td>\n",
       "      <td>[Geralt]</td>\n",
       "    </tr>\n",
       "    <tr>\n",
       "      <th>185</th>\n",
       "      <td>(Let, 's, say, a, fierce, dragon, destroys, .....</td>\n",
       "      <td>[Geralt]</td>\n",
       "      <td>[Geralt]</td>\n",
       "    </tr>\n",
       "  </tbody>\n",
       "</table>\n",
       "</div>"
      ],
      "text/plain": [
       "                                              sentence  \\\n",
       "89   (Is, there, anything, keeping, you, in, this, ...   \n",
       "95   (\", \\n, \", Borch, ,, \", replied, Geralt, ,, wh...   \n",
       "98   (And, you, said, that, as, if, you, were, sayi...   \n",
       "102  (\", \\n, Geralt, took, off, a, glove, and, shoo...   \n",
       "130  (\\n, \", I, forgot, ,, \", Three, Jackdaws, wink...   \n",
       "141  (Geralt, loosened, his, belt, ,, removed, his,...   \n",
       "146  (\\n, \", Do, the, girls, speak, the, common, la...   \n",
       "149  (How, 's, your, soup, ,, Geralt, ?, \", \\n, \", ...   \n",
       "158  (Yet, there, is, a, certain, principal, underl...   \n",
       "185  (Let, 's, say, a, fierce, dragon, destroys, .....   \n",
       "\n",
       "                       entities character_entities  \n",
       "89   [Geralt of Rivia, Perfect]  [Geralt of Rivia]  \n",
       "95              [Borch, Geralt]           [Geralt]  \n",
       "98                     [Geralt]           [Geralt]  \n",
       "102                    [Geralt]           [Geralt]  \n",
       "130    [Three Jackdaws, Geralt]           [Geralt]  \n",
       "141                    [Geralt]           [Geralt]  \n",
       "146                    [Geralt]           [Geralt]  \n",
       "149                    [Geralt]           [Geralt]  \n",
       "158                    [Geralt]           [Geralt]  \n",
       "185                    [Geralt]           [Geralt]  "
      ]
     },
     "execution_count": 17,
     "metadata": {},
     "output_type": "execute_result"
    }
   ],
   "source": [
    "sent_entity_df['character_entities'] = sent_entity_df['entities'].apply(lambda x: filter_entity(x, character_df))\n",
    "\n",
    "# Filter out sentences that don't have any character entities\n",
    "sent_entity_df_filtered = sent_entity_df[sent_entity_df['character_entities'].map(len) > 0]\n",
    "sent_entity_df_filtered.head(10)"
   ]
  },
  {
   "cell_type": "code",
   "execution_count": 18,
   "id": "fd821c88-546b-408f-abd2-8b05574824c8",
   "metadata": {},
   "outputs": [
    {
     "name": "stderr",
     "output_type": "stream",
     "text": [
      "C:\\Users\\oluwanifemi.aweda\\AppData\\Local\\Temp\\ipykernel_14732\\2127265797.py:1: SettingWithCopyWarning: \n",
      "A value is trying to be set on a copy of a slice from a DataFrame.\n",
      "Try using .loc[row_indexer,col_indexer] = value instead\n",
      "\n",
      "See the caveats in the documentation: https://pandas.pydata.org/pandas-docs/stable/user_guide/indexing.html#returning-a-view-versus-a-copy\n",
      "  sent_entity_df_filtered['character_entities'] = sent_entity_df_filtered['character_entities'].apply(lambda x: [item.split()[0]\n"
     ]
    }
   ],
   "source": [
    "sent_entity_df_filtered['character_entities'] = sent_entity_df_filtered['character_entities'].apply(lambda x: [item.split()[0] \n",
    "                                                                                                               for item in x])"
   ]
  },
  {
   "cell_type": "code",
   "execution_count": 19,
   "id": "789774e0-5e5b-44eb-a46c-3dfe94f82659",
   "metadata": {},
   "outputs": [
    {
     "data": {
      "text/html": [
       "<div>\n",
       "<style scoped>\n",
       "    .dataframe tbody tr th:only-of-type {\n",
       "        vertical-align: middle;\n",
       "    }\n",
       "\n",
       "    .dataframe tbody tr th {\n",
       "        vertical-align: top;\n",
       "    }\n",
       "\n",
       "    .dataframe thead th {\n",
       "        text-align: right;\n",
       "    }\n",
       "</style>\n",
       "<table border=\"1\" class=\"dataframe\">\n",
       "  <thead>\n",
       "    <tr style=\"text-align: right;\">\n",
       "      <th></th>\n",
       "      <th>sentence</th>\n",
       "      <th>entities</th>\n",
       "      <th>character_entities</th>\n",
       "    </tr>\n",
       "  </thead>\n",
       "  <tbody>\n",
       "    <tr>\n",
       "      <th>89</th>\n",
       "      <td>(Is, there, anything, keeping, you, in, this, ...</td>\n",
       "      <td>[Geralt of Rivia, Perfect]</td>\n",
       "      <td>[Geralt]</td>\n",
       "    </tr>\n",
       "    <tr>\n",
       "      <th>95</th>\n",
       "      <td>(\", \\n, \", Borch, ,, \", replied, Geralt, ,, wh...</td>\n",
       "      <td>[Borch, Geralt]</td>\n",
       "      <td>[Geralt]</td>\n",
       "    </tr>\n",
       "    <tr>\n",
       "      <th>98</th>\n",
       "      <td>(And, you, said, that, as, if, you, were, sayi...</td>\n",
       "      <td>[Geralt]</td>\n",
       "      <td>[Geralt]</td>\n",
       "    </tr>\n",
       "    <tr>\n",
       "      <th>102</th>\n",
       "      <td>(\", \\n, Geralt, took, off, a, glove, and, shoo...</td>\n",
       "      <td>[Geralt]</td>\n",
       "      <td>[Geralt]</td>\n",
       "    </tr>\n",
       "    <tr>\n",
       "      <th>130</th>\n",
       "      <td>(\\n, \", I, forgot, ,, \", Three, Jackdaws, wink...</td>\n",
       "      <td>[Three Jackdaws, Geralt]</td>\n",
       "      <td>[Geralt]</td>\n",
       "    </tr>\n",
       "  </tbody>\n",
       "</table>\n",
       "</div>"
      ],
      "text/plain": [
       "                                              sentence  \\\n",
       "89   (Is, there, anything, keeping, you, in, this, ...   \n",
       "95   (\", \\n, \", Borch, ,, \", replied, Geralt, ,, wh...   \n",
       "98   (And, you, said, that, as, if, you, were, sayi...   \n",
       "102  (\", \\n, Geralt, took, off, a, glove, and, shoo...   \n",
       "130  (\\n, \", I, forgot, ,, \", Three, Jackdaws, wink...   \n",
       "\n",
       "                       entities character_entities  \n",
       "89   [Geralt of Rivia, Perfect]           [Geralt]  \n",
       "95              [Borch, Geralt]           [Geralt]  \n",
       "98                     [Geralt]           [Geralt]  \n",
       "102                    [Geralt]           [Geralt]  \n",
       "130    [Three Jackdaws, Geralt]           [Geralt]  "
      ]
     },
     "execution_count": 19,
     "metadata": {},
     "output_type": "execute_result"
    }
   ],
   "source": [
    "sent_entity_df_filtered.head()"
   ]
  },
  {
   "cell_type": "markdown",
   "id": "ce128f6e-c882-4542-ab88-85671cc54936",
   "metadata": {},
   "source": [
    "**Create relationships between the character names**"
   ]
  },
  {
   "cell_type": "code",
   "execution_count": 20,
   "id": "d53401a9-a0d0-48c6-b55e-b915c6272aeb",
   "metadata": {},
   "outputs": [],
   "source": [
    "window_size = 5\n",
    "relationships = []\n",
    "\n",
    "for i in range(sent_entity_df_filtered.index[-1]):\n",
    "    end_i = min(i+5, sent_entity_df_filtered.index[-1])\n",
    "    char_list = sum((sent_entity_df_filtered.loc[i: end_i].character_entities), [])\n",
    "    \n",
    "    # Remove duplicated characters that are next to each other\n",
    "    char_unique = [char_list[i] for i in range(len(char_list)) \n",
    "                   if (i==0) or char_list[i] != char_list[i-1]]\n",
    "    \n",
    "    if len(char_unique) > 1:\n",
    "        for idx, a in enumerate(char_unique[:-1]):\n",
    "            b = char_unique[idx + 1]\n",
    "            relationships.append({\"source\": a, \"target\": b})"
   ]
  },
  {
   "cell_type": "code",
   "execution_count": 21,
   "id": "3d62ac37-0546-4fa2-b658-19191c9e1e76",
   "metadata": {},
   "outputs": [
    {
     "data": {
      "text/html": [
       "<div>\n",
       "<style scoped>\n",
       "    .dataframe tbody tr th:only-of-type {\n",
       "        vertical-align: middle;\n",
       "    }\n",
       "\n",
       "    .dataframe tbody tr th {\n",
       "        vertical-align: top;\n",
       "    }\n",
       "\n",
       "    .dataframe thead th {\n",
       "        text-align: right;\n",
       "    }\n",
       "</style>\n",
       "<table border=\"1\" class=\"dataframe\">\n",
       "  <thead>\n",
       "    <tr style=\"text-align: right;\">\n",
       "      <th></th>\n",
       "      <th>source</th>\n",
       "      <th>target</th>\n",
       "    </tr>\n",
       "  </thead>\n",
       "  <tbody>\n",
       "    <tr>\n",
       "      <th>0</th>\n",
       "      <td>Niedamir</td>\n",
       "      <td>Geralt</td>\n",
       "    </tr>\n",
       "    <tr>\n",
       "      <th>1</th>\n",
       "      <td>Niedamir</td>\n",
       "      <td>Geralt</td>\n",
       "    </tr>\n",
       "    <tr>\n",
       "      <th>2</th>\n",
       "      <td>Niedamir</td>\n",
       "      <td>Geralt</td>\n",
       "    </tr>\n",
       "    <tr>\n",
       "      <th>3</th>\n",
       "      <td>Geralt</td>\n",
       "      <td>Niedamir</td>\n",
       "    </tr>\n",
       "    <tr>\n",
       "      <th>4</th>\n",
       "      <td>Geralt</td>\n",
       "      <td>Niedamir</td>\n",
       "    </tr>\n",
       "  </tbody>\n",
       "</table>\n",
       "</div>"
      ],
      "text/plain": [
       "     source    target\n",
       "0  Niedamir    Geralt\n",
       "1  Niedamir    Geralt\n",
       "2  Niedamir    Geralt\n",
       "3    Geralt  Niedamir\n",
       "4    Geralt  Niedamir"
      ]
     },
     "execution_count": 21,
     "metadata": {},
     "output_type": "execute_result"
    }
   ],
   "source": [
    "relationship_df = pd.DataFrame(relationships)\n",
    "relationship_df.head()"
   ]
  },
  {
   "cell_type": "code",
   "execution_count": 22,
   "id": "bf7cc001-f905-4e9c-80fe-6c48ee2864d7",
   "metadata": {},
   "outputs": [
    {
     "data": {
      "text/html": [
       "<div>\n",
       "<style scoped>\n",
       "    .dataframe tbody tr th:only-of-type {\n",
       "        vertical-align: middle;\n",
       "    }\n",
       "\n",
       "    .dataframe tbody tr th {\n",
       "        vertical-align: top;\n",
       "    }\n",
       "\n",
       "    .dataframe thead th {\n",
       "        text-align: right;\n",
       "    }\n",
       "</style>\n",
       "<table border=\"1\" class=\"dataframe\">\n",
       "  <thead>\n",
       "    <tr style=\"text-align: right;\">\n",
       "      <th></th>\n",
       "      <th>source</th>\n",
       "      <th>target</th>\n",
       "    </tr>\n",
       "  </thead>\n",
       "  <tbody>\n",
       "    <tr>\n",
       "      <th>0</th>\n",
       "      <td>Geralt</td>\n",
       "      <td>Niedamir</td>\n",
       "    </tr>\n",
       "    <tr>\n",
       "      <th>1</th>\n",
       "      <td>Geralt</td>\n",
       "      <td>Niedamir</td>\n",
       "    </tr>\n",
       "    <tr>\n",
       "      <th>2</th>\n",
       "      <td>Geralt</td>\n",
       "      <td>Niedamir</td>\n",
       "    </tr>\n",
       "    <tr>\n",
       "      <th>3</th>\n",
       "      <td>Geralt</td>\n",
       "      <td>Niedamir</td>\n",
       "    </tr>\n",
       "    <tr>\n",
       "      <th>4</th>\n",
       "      <td>Geralt</td>\n",
       "      <td>Niedamir</td>\n",
       "    </tr>\n",
       "    <tr>\n",
       "      <th>...</th>\n",
       "      <td>...</td>\n",
       "      <td>...</td>\n",
       "    </tr>\n",
       "    <tr>\n",
       "      <th>2865</th>\n",
       "      <td>Ciri</td>\n",
       "      <td>Geralt</td>\n",
       "    </tr>\n",
       "    <tr>\n",
       "      <th>2866</th>\n",
       "      <td>Ciri</td>\n",
       "      <td>Geralt</td>\n",
       "    </tr>\n",
       "    <tr>\n",
       "      <th>2867</th>\n",
       "      <td>Ciri</td>\n",
       "      <td>Geralt</td>\n",
       "    </tr>\n",
       "    <tr>\n",
       "      <th>2868</th>\n",
       "      <td>Ciri</td>\n",
       "      <td>Geralt</td>\n",
       "    </tr>\n",
       "    <tr>\n",
       "      <th>2869</th>\n",
       "      <td>Ciri</td>\n",
       "      <td>Geralt</td>\n",
       "    </tr>\n",
       "  </tbody>\n",
       "</table>\n",
       "<p>2870 rows × 2 columns</p>\n",
       "</div>"
      ],
      "text/plain": [
       "      source    target\n",
       "0     Geralt  Niedamir\n",
       "1     Geralt  Niedamir\n",
       "2     Geralt  Niedamir\n",
       "3     Geralt  Niedamir\n",
       "4     Geralt  Niedamir\n",
       "...      ...       ...\n",
       "2865    Ciri    Geralt\n",
       "2866    Ciri    Geralt\n",
       "2867    Ciri    Geralt\n",
       "2868    Ciri    Geralt\n",
       "2869    Ciri    Geralt\n",
       "\n",
       "[2870 rows x 2 columns]"
      ]
     },
     "execution_count": 22,
     "metadata": {},
     "output_type": "execute_result"
    }
   ],
   "source": [
    "# Sort the cases with a->b and b->a\n",
    "relationship_df = pd.DataFrame(np.sort(relationship_df.values, axis = 1), columns = relationship_df.columns)\n",
    "relationship_df"
   ]
  },
  {
   "cell_type": "code",
   "execution_count": 23,
   "id": "3003cf2d-0a0b-4bdf-8930-8f7dbf8c2fe4",
   "metadata": {},
   "outputs": [],
   "source": [
    "relationship_df[\"value\"] = 1\n",
    "relationship_df = relationship_df.groupby([\"source\",\"target\"], sort=False, as_index=False).sum()"
   ]
  },
  {
   "cell_type": "code",
   "execution_count": 24,
   "id": "f24721ed-7f9d-4de3-bd9a-2224b09e74c0",
   "metadata": {},
   "outputs": [
    {
     "data": {
      "text/html": [
       "<div>\n",
       "<style scoped>\n",
       "    .dataframe tbody tr th:only-of-type {\n",
       "        vertical-align: middle;\n",
       "    }\n",
       "\n",
       "    .dataframe tbody tr th {\n",
       "        vertical-align: top;\n",
       "    }\n",
       "\n",
       "    .dataframe thead th {\n",
       "        text-align: right;\n",
       "    }\n",
       "</style>\n",
       "<table border=\"1\" class=\"dataframe\">\n",
       "  <thead>\n",
       "    <tr style=\"text-align: right;\">\n",
       "      <th></th>\n",
       "      <th>source</th>\n",
       "      <th>target</th>\n",
       "      <th>value</th>\n",
       "    </tr>\n",
       "  </thead>\n",
       "  <tbody>\n",
       "    <tr>\n",
       "      <th>0</th>\n",
       "      <td>Geralt</td>\n",
       "      <td>Niedamir</td>\n",
       "      <td>55</td>\n",
       "    </tr>\n",
       "    <tr>\n",
       "      <th>1</th>\n",
       "      <td>Eyck</td>\n",
       "      <td>Geralt</td>\n",
       "      <td>30</td>\n",
       "    </tr>\n",
       "    <tr>\n",
       "      <th>2</th>\n",
       "      <td>Dorregaray</td>\n",
       "      <td>Geralt</td>\n",
       "      <td>23</td>\n",
       "    </tr>\n",
       "    <tr>\n",
       "      <th>3</th>\n",
       "      <td>Dorregaray</td>\n",
       "      <td>Yennefer</td>\n",
       "      <td>56</td>\n",
       "    </tr>\n",
       "    <tr>\n",
       "      <th>4</th>\n",
       "      <td>Boholt</td>\n",
       "      <td>Niedamir</td>\n",
       "      <td>20</td>\n",
       "    </tr>\n",
       "    <tr>\n",
       "      <th>5</th>\n",
       "      <td>Geralt</td>\n",
       "      <td>Yarpen</td>\n",
       "      <td>16</td>\n",
       "    </tr>\n",
       "    <tr>\n",
       "      <th>6</th>\n",
       "      <td>Niedamir</td>\n",
       "      <td>Yarpen</td>\n",
       "      <td>12</td>\n",
       "    </tr>\n",
       "    <tr>\n",
       "      <th>7</th>\n",
       "      <td>Geralt</td>\n",
       "      <td>Gyllenstiern</td>\n",
       "      <td>36</td>\n",
       "    </tr>\n",
       "    <tr>\n",
       "      <th>8</th>\n",
       "      <td>Geralt</td>\n",
       "      <td>Kennet</td>\n",
       "      <td>2</td>\n",
       "    </tr>\n",
       "    <tr>\n",
       "      <th>9</th>\n",
       "      <td>Boholt</td>\n",
       "      <td>Kennet</td>\n",
       "      <td>12</td>\n",
       "    </tr>\n",
       "    <tr>\n",
       "      <th>10</th>\n",
       "      <td>Boholt</td>\n",
       "      <td>Geralt</td>\n",
       "      <td>60</td>\n",
       "    </tr>\n",
       "    <tr>\n",
       "      <th>11</th>\n",
       "      <td>Dorregaray</td>\n",
       "      <td>Yarpen</td>\n",
       "      <td>8</td>\n",
       "    </tr>\n",
       "  </tbody>\n",
       "</table>\n",
       "</div>"
      ],
      "text/plain": [
       "        source        target  value\n",
       "0       Geralt      Niedamir     55\n",
       "1         Eyck        Geralt     30\n",
       "2   Dorregaray        Geralt     23\n",
       "3   Dorregaray      Yennefer     56\n",
       "4       Boholt      Niedamir     20\n",
       "5       Geralt        Yarpen     16\n",
       "6     Niedamir        Yarpen     12\n",
       "7       Geralt  Gyllenstiern     36\n",
       "8       Geralt        Kennet      2\n",
       "9       Boholt        Kennet     12\n",
       "10      Boholt        Geralt     60\n",
       "11  Dorregaray        Yarpen      8"
      ]
     },
     "execution_count": 24,
     "metadata": {},
     "output_type": "execute_result"
    }
   ],
   "source": [
    "relationship_df.head(12)"
   ]
  },
  {
   "cell_type": "markdown",
   "id": "fa19f2a3-6a79-4f25-a062-dc8c40dbe4c8",
   "metadata": {},
   "source": [
    ".\n",
    "\n",
    "\n",
    "#### **Graph Analysis and Visualization**"
   ]
  },
  {
   "cell_type": "code",
   "execution_count": 25,
   "id": "75f6286c-0918-4595-90b0-0a36043c7880",
   "metadata": {},
   "outputs": [],
   "source": [
    "# Create a graph from a pandas dataframe\n",
    "G = nx.from_pandas_edgelist(relationship_df, \n",
    "                            source = \"source\", \n",
    "                            target = \"target\", \n",
    "                            edge_attr = \"value\", \n",
    "                            create_using = nx.Graph())"
   ]
  },
  {
   "cell_type": "markdown",
   "id": "d45fd459-0e22-4775-a1a2-7bbeb00fd362",
   "metadata": {},
   "source": [
    "**Visualize using Networkx**"
   ]
  },
  {
   "cell_type": "code",
   "execution_count": 27,
   "id": "5b7c574c-936e-4907-b39e-8247a065d545",
   "metadata": {},
   "outputs": [
    {
     "data": {
      "image/png": "[encoded data removed]",
      "text/plain": [
       "<Figure size 720x720 with 1 Axes>"
      ]
     },
     "metadata": {},
     "output_type": "display_data"
    }
   ],
   "source": [
    "plt.figure(figsize=(10,10))\n",
    "pos = nx.kamada_kawai_layout(G)\n",
    "nx.draw(G, with_labels=True, node_color='skyblue', edge_cmap=plt.cm.Blues, pos = pos)\n",
    "plt.show()"
   ]
  },
  {
   "cell_type": "markdown",
   "id": "ad766a7b-011c-48e8-9520-932889478731",
   "metadata": {},
   "source": [
    "**Visualize using pyvis**"
   ]
  },
  {
   "cell_type": "code",
   "execution_count": 28,
   "id": "a8610c5f-2d1d-44a1-aa94-c6b09079bd23",
   "metadata": {},
   "outputs": [
    {
     "data": {
      "text/html": [
       "\n",
       "        <iframe\n",
       "            width=\"1000px\"\n",
       "            height=\"700px\"\n",
       "            src=\"witcher.html\"\n",
       "            frameborder=\"0\"\n",
       "            allowfullscreen\n",
       "            \n",
       "        ></iframe>\n",
       "        "
      ],
      "text/plain": [
       "<IPython.lib.display.IFrame at 0x1beafecf760>"
      ]
     },
     "execution_count": 28,
     "metadata": {},
     "output_type": "execute_result"
    }
   ],
   "source": [
    "net = Network(notebook = True, width=\"1000px\", height=\"700px\", bgcolor='#222222', font_color='white')\n",
    "\n",
    "node_degree = dict(G.degree)\n",
    "\n",
    "#Setting up node size attribute\n",
    "nx.set_node_attributes(G, node_degree, 'size')\n",
    "\n",
    "net.from_nx(G)\n",
    "net.show(\"witcher.html\")"
   ]
  },
  {
   "cell_type": "markdown",
   "id": "6f406b1d-ba13-41b7-b165-4fd5abee7203",
   "metadata": {},
   "source": [
    "**Themonst important characters in the series**"
   ]
  },
  {
   "cell_type": "code",
   "execution_count": 29,
   "id": "bbbb4f3a-2fe5-4916-8bc2-b52c47f677ab",
   "metadata": {},
   "outputs": [
    {
     "data": {
      "text/plain": [
       "{'Geralt': 0.6515151515151515,\n",
       " 'Niedamir': 0.10606060606060606,\n",
       " 'Eyck': 0.10606060606060606,\n",
       " 'Dorregaray': 0.10606060606060606,\n",
       " 'Yennefer': 0.24242424242424243,\n",
       " 'Boholt': 0.15151515151515152,\n",
       " 'Yarpen': 0.12121212121212122,\n",
       " 'Gyllenstiern': 0.12121212121212122,\n",
       " 'Kennet': 0.07575757575757576,\n",
       " 'Crinfrid': 0.015151515151515152,\n",
       " 'Villentretenmerth': 0.045454545454545456,\n",
       " 'Istredd': 0.045454545454545456,\n",
       " 'Herbolth': 0.030303030303030304,\n",
       " 'Ivo': 0.015151515151515152,\n",
       " 'Two': 0.06060606060606061,\n",
       " 'Dandelion': 0.16666666666666669,\n",
       " 'Vespula': 0.06060606060606061,\n",
       " 'Dainty': 0.10606060606060606,\n",
       " 'Vimme': 0.07575757575757576,\n",
       " 'Sulimir': 0.045454545454545456,\n",
       " 'Ther': 0.015151515151515152,\n",
       " 'Rhundurin': 0.030303030303030304,\n",
       " 'Dudu': 0.045454545454545456,\n",
       " \"Sh'eenaz\": 0.06060606060606061,\n",
       " 'Gaspard': 0.030303030303030304,\n",
       " 'Teleri': 0.030303030303030304,\n",
       " 'Dalia': 0.030303030303030304,\n",
       " 'Mestvin': 0.030303030303030304,\n",
       " 'Essi': 0.12121212121212122,\n",
       " 'Gerard': 0.015151515151515152,\n",
       " 'Zelest': 0.015151515151515152,\n",
       " 'Duke': 0.015151515151515152,\n",
       " 'Veverka': 0.045454545454545456,\n",
       " 'Akeretta': 0.030303030303030304,\n",
       " 'Agloval': 0.030303030303030304,\n",
       " 'Ebbing': 0.015151515151515152,\n",
       " 'Juan': 0.030303030303030304,\n",
       " 'Cynthia': 0.015151515151515152,\n",
       " 'Braenn': 0.10606060606060606,\n",
       " 'Ciri': 0.2727272727272727,\n",
       " 'Kistrin': 0.045454545454545456,\n",
       " 'Marck': 0.015151515151515152,\n",
       " 'Voymir': 0.045454545454545456,\n",
       " 'Alvina': 0.015151515151515152,\n",
       " 'Vesemir': 0.030303030303030304,\n",
       " 'Ervyll': 0.09090909090909091,\n",
       " 'Freixenet': 0.06060606060606061,\n",
       " 'Venzlav': 0.10606060606060606,\n",
       " 'Ekkehard': 0.030303030303030304,\n",
       " 'Viraxas': 0.045454545454545456,\n",
       " 'Morenn': 0.045454545454545456,\n",
       " 'Mona': 0.015151515151515152,\n",
       " 'Pavetta': 0.030303030303030304,\n",
       " 'Brick': 0.045454545454545456,\n",
       " 'Junghans': 0.045454545454545456,\n",
       " 'Levecque': 0.07575757575757576,\n",
       " 'King': 0.030303030303030304,\n",
       " 'Mousesack': 0.030303030303030304,\n",
       " 'Yurga': 0.07575757575757576,\n",
       " 'Visenna': 0.015151515151515152,\n",
       " 'Triss': 0.045454545454545456,\n",
       " 'Atlan': 0.030303030303030304,\n",
       " 'Vanielle': 0.030303030303030304,\n",
       " 'Lytta': 0.015151515151515152,\n",
       " 'Roach': 0.045454545454545456,\n",
       " 'Nadbor': 0.015151515151515152,\n",
       " 'Sulik': 0.015151515151515152}"
      ]
     },
     "execution_count": 29,
     "metadata": {},
     "output_type": "execute_result"
    }
   ],
   "source": [
    "# Degree centrality\n",
    "degree_dict = nx.degree_centrality(G)\n",
    "degree_dict"
   ]
  },
  {
   "cell_type": "code",
   "execution_count": 30,
   "id": "76729039-201f-445d-9360-e9bd2935fba1",
   "metadata": {},
   "outputs": [
    {
     "data": {
      "text/plain": [
       "<AxesSubplot:>"
      ]
     },
     "execution_count": 30,
     "metadata": {},
     "output_type": "execute_result"
    },
    {
     "data": {
      "image/png": "[encoded data removed]",
      "text/plain": [
       "<Figure size 432x288 with 1 Axes>"
      ]
     },
     "metadata": {
      "needs_background": "light"
     },
     "output_type": "display_data"
    }
   ],
   "source": [
    "degree_df = pd.DataFrame.from_dict(degree_dict, orient='index', columns=['centrality'])\n",
    "# Plot top 10 nodes\n",
    "degree_df.sort_values('centrality', ascending=False)[0:9].plot(kind=\"bar\")"
   ]
  },
  {
   "cell_type": "code",
   "execution_count": 31,
   "id": "fe1aa1d8-020d-472e-ac1f-7b2862645a85",
   "metadata": {},
   "outputs": [
    {
     "data": {
      "text/plain": [
       "<AxesSubplot:>"
      ]
     },
     "execution_count": 31,
     "metadata": {},
     "output_type": "execute_result"
    },
    {
     "data": {
      "image/png": "[encoded data removed]",
      "text/plain": [
       "<Figure size 432x288 with 1 Axes>"
      ]
     },
     "metadata": {
      "needs_background": "light"
     },
     "output_type": "display_data"
    }
   ],
   "source": [
    "# Betweenness centrality\n",
    "betweenness_dict = nx.betweenness_centrality(G)\n",
    "betweenness_df = pd.DataFrame.from_dict(betweenness_dict, orient='index', columns=['centrality'])\n",
    "# Plot top 10 nodes\n",
    "betweenness_df.sort_values('centrality', ascending=False)[0:9].plot(kind=\"bar\")"
   ]
  },
  {
   "cell_type": "code",
   "execution_count": 32,
   "id": "ab43357e-b180-449f-9f6b-ec94abf8da1d",
   "metadata": {},
   "outputs": [
    {
     "data": {
      "text/plain": [
       "<AxesSubplot:>"
      ]
     },
     "execution_count": 32,
     "metadata": {},
     "output_type": "execute_result"
    },
    {
     "data": {
      "image/png": "[encoded data removed]",
      "text/plain": [
       "<Figure size 432x288 with 1 Axes>"
      ]
     },
     "metadata": {
      "needs_background": "light"
     },
     "output_type": "display_data"
    }
   ],
   "source": [
    "# Closeness centrality\n",
    "closeness_dict = nx.closeness_centrality(G)\n",
    "closeness_df = pd.DataFrame.from_dict(closeness_dict, orient='index', columns=['centrality'])\n",
    "# Plot top 10 nodes\n",
    "closeness_df.sort_values('centrality', ascending=False)[0:9].plot(kind=\"bar\")"
   ]
  },
  {
   "cell_type": "code",
   "execution_count": 33,
   "id": "6a92f3f2-9293-473f-b220-a63e4461effb",
   "metadata": {},
   "outputs": [],
   "source": [
    "# Save centrality measures\n",
    "nx.set_node_attributes(G, degree_dict, 'degree_centrality')\n",
    "nx.set_node_attributes(G, betweenness_dict, 'betweenness_centrality')\n",
    "nx.set_node_attributes(G, closeness_dict, 'closeness_centrality')"
   ]
  },
  {
   "cell_type": "markdown",
   "id": "b4f1183d-0cfd-46b5-bde0-033ac0b25648",
   "metadata": {},
   "source": [
    "**Community detection of characters**"
   ]
  },
  {
   "cell_type": "code",
   "execution_count": 37,
   "id": "58c7e588-efd5-488c-857d-7e0a6cf51973",
   "metadata": {},
   "outputs": [],
   "source": [
    "communities = community_louvain.best_partition(G)"
   ]
  },
  {
   "cell_type": "code",
   "execution_count": 38,
   "id": "c4dd43c7-af43-49a2-83d0-09750df5f7cb",
   "metadata": {},
   "outputs": [],
   "source": [
    "nx.set_node_attributes(G, communities, 'group')"
   ]
  },
  {
   "cell_type": "code",
   "execution_count": 39,
   "id": "70b9348f-9678-444f-880f-076e7cb20213",
   "metadata": {},
   "outputs": [
    {
     "data": {
      "text/html": [
       "\n",
       "        <iframe\n",
       "            width=\"1000px\"\n",
       "            height=\"700px\"\n",
       "            src=\"witcher_communities.html\"\n",
       "            frameborder=\"0\"\n",
       "            allowfullscreen\n",
       "            \n",
       "        ></iframe>\n",
       "        "
      ],
      "text/plain": [
       "<IPython.lib.display.IFrame at 0x1beb037ae60>"
      ]
     },
     "execution_count": 39,
     "metadata": {},
     "output_type": "execute_result"
    }
   ],
   "source": [
    "com_net = Network(notebook = True, width=\"1000px\", height=\"700px\", bgcolor='#222222', font_color='white')\n",
    "com_net.from_nx(G)\n",
    "com_net.show(\"witcher_communities.html\")"
   ]
  },
  {
   "cell_type": "markdown",
   "id": "0a44502e-e217-4b9b-8084-75786d2f6759",
   "metadata": {},
   "source": [
    "**Evolution of characters' importance**"
   ]
  },
  {
   "cell_type": "code",
   "execution_count": 40,
   "id": "2b8c85db-2c76-4f2e-a890-b90265194472",
   "metadata": {},
   "outputs": [],
   "source": [
    "# Initialize empty list for graphs from books\n",
    "books_graph = []\n",
    "all_books = [b for b in os.scandir('data') if '.txt' in b.name]\n",
    "# Load spacy English languague model\n",
    "nlp = spacy.load(\"en_core_web_sm\")\n",
    "\n",
    "# Sort dir entries by name\n",
    "all_books.sort(key=lambda x: x.name)"
   ]
  },
  {
   "cell_type": "code",
   "execution_count": 41,
   "id": "46553985-a9f2-4def-adec-e0970336b5cf",
   "metadata": {},
   "outputs": [
    {
     "name": "stderr",
     "output_type": "stream",
     "text": [
      "C:\\Users\\oluwanifemi.aweda\\AppData\\Local\\Temp\\ipykernel_14732\\4223697425.py:15: SettingWithCopyWarning: \n",
      "A value is trying to be set on a copy of a slice from a DataFrame.\n",
      "Try using .loc[row_indexer,col_indexer] = value instead\n",
      "\n",
      "See the caveats in the documentation: https://pandas.pydata.org/pandas-docs/stable/user_guide/indexing.html#returning-a-view-versus-a-copy\n",
      "  sent_entity_df_filtered['character_entities'] = sent_entity_df_filtered['character_entities'].apply(lambda x: [item.split()[0]\n",
      "C:\\Users\\oluwanifemi.aweda\\AppData\\Local\\Temp\\ipykernel_14732\\4223697425.py:15: SettingWithCopyWarning: \n",
      "A value is trying to be set on a copy of a slice from a DataFrame.\n",
      "Try using .loc[row_indexer,col_indexer] = value instead\n",
      "\n",
      "See the caveats in the documentation: https://pandas.pydata.org/pandas-docs/stable/user_guide/indexing.html#returning-a-view-versus-a-copy\n",
      "  sent_entity_df_filtered['character_entities'] = sent_entity_df_filtered['character_entities'].apply(lambda x: [item.split()[0]\n",
      "C:\\Users\\oluwanifemi.aweda\\AppData\\Local\\Temp\\ipykernel_14732\\4223697425.py:15: SettingWithCopyWarning: \n",
      "A value is trying to be set on a copy of a slice from a DataFrame.\n",
      "Try using .loc[row_indexer,col_indexer] = value instead\n",
      "\n",
      "See the caveats in the documentation: https://pandas.pydata.org/pandas-docs/stable/user_guide/indexing.html#returning-a-view-versus-a-copy\n",
      "  sent_entity_df_filtered['character_entities'] = sent_entity_df_filtered['character_entities'].apply(lambda x: [item.split()[0]\n",
      "C:\\Users\\oluwanifemi.aweda\\AppData\\Local\\Temp\\ipykernel_14732\\4223697425.py:15: SettingWithCopyWarning: \n",
      "A value is trying to be set on a copy of a slice from a DataFrame.\n",
      "Try using .loc[row_indexer,col_indexer] = value instead\n",
      "\n",
      "See the caveats in the documentation: https://pandas.pydata.org/pandas-docs/stable/user_guide/indexing.html#returning-a-view-versus-a-copy\n",
      "  sent_entity_df_filtered['character_entities'] = sent_entity_df_filtered['character_entities'].apply(lambda x: [item.split()[0]\n",
      "C:\\Users\\oluwanifemi.aweda\\AppData\\Local\\Temp\\ipykernel_14732\\4223697425.py:15: SettingWithCopyWarning: \n",
      "A value is trying to be set on a copy of a slice from a DataFrame.\n",
      "Try using .loc[row_indexer,col_indexer] = value instead\n",
      "\n",
      "See the caveats in the documentation: https://pandas.pydata.org/pandas-docs/stable/user_guide/indexing.html#returning-a-view-versus-a-copy\n",
      "  sent_entity_df_filtered['character_entities'] = sent_entity_df_filtered['character_entities'].apply(lambda x: [item.split()[0]\n",
      "C:\\Users\\oluwanifemi.aweda\\AppData\\Local\\Temp\\ipykernel_14732\\4223697425.py:15: SettingWithCopyWarning: \n",
      "A value is trying to be set on a copy of a slice from a DataFrame.\n",
      "Try using .loc[row_indexer,col_indexer] = value instead\n",
      "\n",
      "See the caveats in the documentation: https://pandas.pydata.org/pandas-docs/stable/user_guide/indexing.html#returning-a-view-versus-a-copy\n",
      "  sent_entity_df_filtered['character_entities'] = sent_entity_df_filtered['character_entities'].apply(lambda x: [item.split()[0]\n",
      "C:\\Users\\oluwanifemi.aweda\\AppData\\Local\\Temp\\ipykernel_14732\\4223697425.py:15: SettingWithCopyWarning: \n",
      "A value is trying to be set on a copy of a slice from a DataFrame.\n",
      "Try using .loc[row_indexer,col_indexer] = value instead\n",
      "\n",
      "See the caveats in the documentation: https://pandas.pydata.org/pandas-docs/stable/user_guide/indexing.html#returning-a-view-versus-a-copy\n",
      "  sent_entity_df_filtered['character_entities'] = sent_entity_df_filtered['character_entities'].apply(lambda x: [item.split()[0]\n",
      "C:\\Users\\oluwanifemi.aweda\\AppData\\Local\\Temp\\ipykernel_14732\\4223697425.py:15: SettingWithCopyWarning: \n",
      "A value is trying to be set on a copy of a slice from a DataFrame.\n",
      "Try using .loc[row_indexer,col_indexer] = value instead\n",
      "\n",
      "See the caveats in the documentation: https://pandas.pydata.org/pandas-docs/stable/user_guide/indexing.html#returning-a-view-versus-a-copy\n",
      "  sent_entity_df_filtered['character_entities'] = sent_entity_df_filtered['character_entities'].apply(lambda x: [item.split()[0]\n"
     ]
    }
   ],
   "source": [
    "# Loop through book list and create graphs\n",
    "for book in all_books:\n",
    "    book_text = ner(book)\n",
    "    \n",
    "    # Get list of entities per sentences\n",
    "    sent_entity_df = get_ne_list_per_sentence(book_text)\n",
    "    \n",
    "    # Select only character entities\n",
    "    sent_entity_df['character_entities'] = sent_entity_df['entities'].apply(lambda x: filter_entity(x, character_df))\n",
    "\n",
    "    # Filter out sentences that don't have any character entities\n",
    "    sent_entity_df_filtered = sent_entity_df[sent_entity_df['character_entities'].map(len) > 0]\n",
    "    \n",
    "    # Take only first name of characters\n",
    "    sent_entity_df_filtered['character_entities'] = sent_entity_df_filtered['character_entities'].apply(lambda x: [item.split()[0] \n",
    "                                                                                                               for item in x])\n",
    "\n",
    "    # Create relationship df\n",
    "    relationship_df = create_relationships(df = sent_entity_df_filtered, window_size = 5)                                                                                                               \n",
    "    \n",
    "    # Create a graph from a pandas dataframe\n",
    "    G = nx.from_pandas_edgelist(relationship_df, \n",
    "                                source = \"source\", \n",
    "                                target = \"target\", \n",
    "                                edge_attr = \"value\", \n",
    "                                create_using = nx.Graph())     \n",
    "    \n",
    "    books_graph.append(G) "
   ]
  },
  {
   "cell_type": "code",
   "execution_count": 42,
   "id": "7848f187-819f-45d1-88cd-96915c75133f",
   "metadata": {},
   "outputs": [
    {
     "data": {
      "text/plain": [
       "<AxesSubplot:>"
      ]
     },
     "execution_count": 42,
     "metadata": {},
     "output_type": "execute_result"
    },
    {
     "data": {
      "image/png": "[encoded data removed]",
      "text/plain": [
       "<Figure size 432x288 with 1 Axes>"
      ]
     },
     "metadata": {
      "needs_background": "light"
     },
     "output_type": "display_data"
    }
   ],
   "source": [
    "# Creating a list of degree centrality of all the books\n",
    "evol = [nx.degree_centrality(book) for book in books_graph]\n",
    "\n",
    "# Creating a DataFrame from the list of degree centralities in all the books\n",
    "degree_evol_df = pd.DataFrame.from_records(evol)\n",
    "\n",
    "# Plotting the degree centrality evolution of 5 main characters\n",
    "degree_evol_df[[\"Geralt\", \"Ciri\", \"Yennefer\", \"Dandelion\", \"Vesemir\"]].plot()"
   ]
  },
  {
   "cell_type": "code",
   "execution_count": null,
   "id": "d793f431-fea0-48e9-a998-06cdb05b979e",
   "metadata": {},
   "outputs": [],
   "source": []
  }
 ],
 "metadata": {
  "kernelspec": {
   "display_name": "Python 3 (ipykernel)",
   "language": "python",
   "name": "python3"
  },
  "language_info": {
   "codemirror_mode": {
    "name": "ipython",
    "version": 3
   },
   "file_extension": ".py",
   "mimetype": "text/x-python",
   "name": "python",
   "nbconvert_exporter": "python",
   "pygments_lexer": "ipython3",
   "version": "3.10.4"
  }
 },
 "nbformat": 4,
 "nbformat_minor": 5
}
